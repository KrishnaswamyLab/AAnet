{
 "cells": [
  {
   "cell_type": "code",
   "execution_count": 4,
   "metadata": {},
   "outputs": [
    {
     "name": "stdout",
     "output_type": "stream",
     "text": [
      "The autoreload extension is already loaded. To reload it, use:\n",
      "  %reload_ext autoreload\n"
     ]
    }
   ],
   "source": [
    "import AAnet\n",
    "import network\n",
    "import numpy as np\n",
    "import AAtools\n",
    "%load_ext autoreload\n",
    "%autoreload 2\n",
    "import matplotlib.pyplot as plt\n",
    "import seaborn\n",
    "%matplotlib inline\n",
    "import tensorflow as tf\n",
    "import time\n",
    "import pickle\n",
    "from sklearn.decomposition import PCA\n",
    "from PCHA import PCHA"
   ]
  },
  {
   "cell_type": "code",
   "execution_count": null,
   "metadata": {},
   "outputs": [],
   "source": [
    "# compare runtime of AAnet to PCHA, SPAMS, "
   ]
  },
  {
   "cell_type": "code",
   "execution_count": 2,
   "metadata": {},
   "outputs": [
    {
     "name": "stdout",
     "output_type": "stream",
     "text": [
      "WARNING:tensorflow:From <ipython-input-2-4bfcdd21b4fd>:3: read_data_sets (from tensorflow.contrib.learn.python.learn.datasets.mnist) is deprecated and will be removed in a future version.\n",
      "Instructions for updating:\n",
      "Please use alternatives such as official/mnist/dataset.py from tensorflow/models.\n",
      "WARNING:tensorflow:From /usr/lib/python3.7/site-packages/tensorflow/contrib/learn/python/learn/datasets/mnist.py:260: maybe_download (from tensorflow.contrib.learn.python.learn.datasets.base) is deprecated and will be removed in a future version.\n",
      "Instructions for updating:\n",
      "Please write your own downloading logic.\n",
      "WARNING:tensorflow:From /usr/lib/python3.7/site-packages/tensorflow/contrib/learn/python/learn/datasets/mnist.py:262: extract_images (from tensorflow.contrib.learn.python.learn.datasets.mnist) is deprecated and will be removed in a future version.\n",
      "Instructions for updating:\n",
      "Please use tf.data to implement this functionality.\n",
      "Extracting /tmp/data/mnist/train-images-idx3-ubyte.gz\n",
      "WARNING:tensorflow:From /usr/lib/python3.7/site-packages/tensorflow/contrib/learn/python/learn/datasets/mnist.py:267: extract_labels (from tensorflow.contrib.learn.python.learn.datasets.mnist) is deprecated and will be removed in a future version.\n",
      "Instructions for updating:\n",
      "Please use tf.data to implement this functionality.\n",
      "Extracting /tmp/data/mnist/train-labels-idx1-ubyte.gz\n",
      "Extracting /tmp/data/mnist/t10k-images-idx3-ubyte.gz\n",
      "Extracting /tmp/data/mnist/t10k-labels-idx1-ubyte.gz\n",
      "WARNING:tensorflow:From /usr/lib/python3.7/site-packages/tensorflow/contrib/learn/python/learn/datasets/mnist.py:290: DataSet.__init__ (from tensorflow.contrib.learn.python.learn.datasets.mnist) is deprecated and will be removed in a future version.\n",
      "Instructions for updating:\n",
      "Please use alternatives such as official/mnist/dataset.py from tensorflow/models.\n"
     ]
    }
   ],
   "source": [
    "# load mnist\n",
    "from tensorflow.examples.tutorials.mnist import input_data\n",
    "mnist = input_data.read_data_sets('/tmp/data/mnist', one_hot=False)\n",
    "data = mnist.train.images\n",
    "data = (data * 2) - 1 # norm for tanh"
   ]
  },
  {
   "cell_type": "code",
   "execution_count": 7,
   "metadata": {},
   "outputs": [],
   "source": []
  },
  {
   "cell_type": "code",
   "execution_count": 5,
   "metadata": {},
   "outputs": [],
   "source": [
    "# AAnet params\n",
    "num_at = 3\n",
    "noise_z_std = 0.05\n",
    "z_dim = [256,64]\n",
    "#z_dim = [] # linear AA\n",
    "act_out = tf.nn.tanh\n",
    "#act_out = None # linear last layer\n",
    "input_dim = data.shape[1]"
   ]
  },
  {
   "cell_type": "code",
   "execution_count": 6,
   "metadata": {},
   "outputs": [],
   "source": [
    "# network\n",
    "enc_net = network.Encoder(num_at=num_at, z_dim=z_dim)\n",
    "dec_net = network.Decoder(x_dim=input_dim, noise_z_std=noise_z_std, z_dim=z_dim, act_out=act_out)\n",
    "model = AAnet.AAnet(enc_net, dec_net)"
   ]
  },
  {
   "cell_type": "code",
   "execution_count": null,
   "metadata": {},
   "outputs": [],
   "source": [
    "XC, _, _, _, _ = PCHA(data.T, noc=nat)"
   ]
  },
  {
   "cell_type": "code",
   "execution_count": 14,
   "metadata": {},
   "outputs": [
    {
     "name": "stdout",
     "output_type": "stream",
     "text": [
      "0\n",
      "100\n",
      "Iter [       0] Time [0.0071] loss [3.2593]\n",
      "Iter [     500] Time [2.6346] loss [0.2081]\n",
      "Iter [    1000] Time [5.2908] loss [0.1561]\n",
      "Iter [    1500] Time [7.9364] loss [0.1453]\n",
      "Iter [    1999] Time [10.5440] loss [0.1419]\n",
      "done.\n",
      "1\n",
      "500\n",
      "Iter [       0] Time [0.0067] loss [3.2207]\n",
      "Iter [     500] Time [2.5092] loss [0.2202]\n",
      "Iter [    1000] Time [5.0339] loss [0.1910]\n",
      "Iter [    1500] Time [7.5249] loss [0.1897]\n",
      "Iter [    1999] Time [10.0296] loss [0.1839]\n",
      "done.\n",
      "2\n",
      "1000\n",
      "Iter [       0] Time [0.0079] loss [2.9405]\n",
      "Iter [     500] Time [2.5268] loss [0.2086]\n",
      "Iter [    1000] Time [5.0476] loss [0.1962]\n",
      "Iter [    1500] Time [7.5615] loss [0.1887]\n",
      "Iter [    1999] Time [10.0719] loss [0.1810]\n",
      "done.\n",
      "3\n",
      "5000\n",
      "Iter [       0] Time [0.0145] loss [2.5128]\n",
      "Iter [     500] Time [2.4718] loss [0.2084]\n",
      "Iter [    1000] Time [4.9242] loss [0.1985]\n",
      "Iter [    1500] Time [7.3660] loss [0.1984]\n",
      "Iter [    1999] Time [10.0373] loss [0.1863]\n",
      "done.\n"
     ]
    }
   ],
   "source": [
    "n_vec = [100, 500, 1000, 5000]\n",
    "pca = PCA(n_components=10)\n",
    "t_vec_aanet = []\n",
    "t_vec_pcha = []\n",
    "for i in range(len(n_vec)):\n",
    "    print(i)\n",
    "    n_curr = n_vec[i]\n",
    "    print(n_curr)\n",
    "    idx = np.random.randint(data.shape[0], size=n_curr)\n",
    "    data_sample = data[idx,:]\n",
    "    pc = pca.fit_transform(data_sample)\n",
    "    \n",
    "    # run AAnet\n",
    "    t_start = time.time()\n",
    "    model.init_vars()\n",
    "    model.train(data_sample, batch_size=1024, num_batches=2000, verbose=True)\n",
    "    t_end = time.time()\n",
    "    t_vec_aanet.append(t_end - t_start)\n",
    "    "
   ]
  },
  {
   "cell_type": "code",
   "execution_count": 23,
   "metadata": {},
   "outputs": [
    {
     "data": {
      "image/png": "[encoded data removed]",
      "text/plain": [
       "<Figure size 576x432 with 1 Axes>"
      ]
     },
     "metadata": {
      "needs_background": "light"
     },
     "output_type": "display_data"
    }
   ],
   "source": [
    "fig, ax = plt.subplots(1, figsize=(8,6))\n",
    "ax.plot(n_vec, t_vec_aanet, label='AAnet', marker='o')\n",
    "#ax.set_xticks([])\n",
    "#ax.set_yticks([])\n",
    "ax.set_xlabel('num samples')\n",
    "ax.set_ylabel('run time (sec)')\n",
    "ax.legend()\n",
    "ax.set_xscale('log')\n",
    "fig.tight_layout()"
   ]
  },
  {
   "cell_type": "code",
   "execution_count": null,
   "metadata": {},
   "outputs": [],
   "source": []
  }
 ],
 "metadata": {
  "kernelspec": {
   "display_name": "Python 3",
   "language": "python",
   "name": "python3"
  },
  "language_info": {
   "codemirror_mode": {
    "name": "ipython",
    "version": 3
   },
   "file_extension": ".py",
   "mimetype": "text/x-python",
   "name": "python",
   "nbconvert_exporter": "python",
   "pygments_lexer": "ipython3",
   "version": "3.7.1"
  }
 },
 "nbformat": 4,
 "nbformat_minor": 2
}
